{
 "cells": [
  {
   "cell_type": "code",
   "execution_count": null,
   "id": "cf457561-03ae-4e36-a3ae-8a2265b302d1",
   "metadata": {},
   "outputs": [
    {
     "name": "stdout",
     "output_type": "stream",
     "text": [
      "\n",
      "--- Contact Book Menu ---\n",
      "1. Add Contact\n",
      "2. View Contacts\n",
      "3. Search Contact\n",
      "4. Edit Contact\n",
      "5. Delete Contact\n",
      "6. Exit\n"
     ]
    },
    {
     "name": "stdin",
     "output_type": "stream",
     "text": [
      "Enter your choice (1-6):  1\n",
      "Enter contact name:  mariska\n",
      "Enter contact number:  234567\n",
      "Enter contact email:  mariska@123\n"
     ]
    },
    {
     "name": "stdout",
     "output_type": "stream",
     "text": [
      "Contact mariska has been added to your contact book successfully!\n",
      "\n",
      "--- Contact Book Menu ---\n",
      "1. Add Contact\n",
      "2. View Contacts\n",
      "3. Search Contact\n",
      "4. Edit Contact\n",
      "5. Delete Contact\n",
      "6. Exit\n"
     ]
    },
    {
     "name": "stdin",
     "output_type": "stream",
     "text": [
      "Enter your choice (1-6):  2\n"
     ]
    },
    {
     "name": "stdout",
     "output_type": "stream",
     "text": [
      "\n",
      "--- Contact List ---\n",
      "Name: mariska\n",
      "Phone: 234567\n",
      "Email: mariska@123\n",
      "\n",
      "--- Contact Book Menu ---\n",
      "1. Add Contact\n",
      "2. View Contacts\n",
      "3. Search Contact\n",
      "4. Edit Contact\n",
      "5. Delete Contact\n",
      "6. Exit\n"
     ]
    }
   ],
   "source": [
    "from os import name\n",
    "#Contact book\n",
    "\n",
    "#Step 1:Initialize an empty menu\n",
    "contacts={}\n",
    "\n",
    "#Step2: Display the menu\n",
    "def show_menu():\n",
    "  print(\"\\n--- Contact Book Menu ---\")\n",
    "  print(\"1. Add Contact\")\n",
    "  print(\"2. View Contacts\")\n",
    "  print(\"3. Search Contact\")\n",
    "  print(\"4. Edit Contact\")\n",
    "  print(\"5. Delete Contact\")\n",
    "  print(\"6. Exit\")\n",
    "\n",
    "# Step 3: Add a Contact\n",
    "def add_contact():\n",
    "  name = input(\"Enter contact name: \")\n",
    "  phone = input(\"Enter contact number: \")\n",
    "  email = input(\"Enter contact email: \")\n",
    "  contacts[name] = {\"phone\": phone, \"email\": email}\n",
    "  print(f\"Contact {name} has been added to your contact book successfully!\")\n",
    "\n",
    "# Step 4: View All Contacts\n",
    "def view_contacts():\n",
    "  if contacts:\n",
    "    print(\"\\n--- Contact List ---\")\n",
    "    for name, details in contacts.items():\n",
    "      print(f\"Name: {name}\")\n",
    "      print(f\"Phone: {details['phone']}\")\n",
    "      print(f\"Email: {details['email']}\")\n",
    "  else:\n",
    "    print(\"Your contact book is empty.\")\n",
    "\n",
    "# Step 5: Search a Contact\n",
    "def search_contact():\n",
    "  name = input(\"Enter the name of the contact you want to search: \")\n",
    "  if name in contacts:\n",
    "    print(f\"\\n--- Contact Details for {name} ---\")\n",
    "    print(f\"Name: {name}\")\n",
    "    print(f\"Phone: {contacts[name]['phone']}\")\n",
    "    print(f\"Email: {contacts[name]['email']}\")\n",
    "  else:\n",
    "    print(f\"Contact {name} not found in your contact book.\")\n",
    "\n",
    "# Step 6: Edit a contact\n",
    "def edit_contact():\n",
    "  name = input(\"Enter the name of the contact you want to edit: \")\n",
    "  if name in contacts:\n",
    "    phone = input(\"Enter new phone number: \")\n",
    "    email = input(\"Enter new email: \")\n",
    "    contacts[name] = {\"phone\": phone, \"email\": email}\n",
    "    print(f\"Contact {name} has been updated successfully!\")\n",
    "  else:\n",
    "    print(f\"Contact {name} not found in your contact book.\")\n",
    "\n",
    "# Step 7: Delete a contact\n",
    "def delete_contact():\n",
    "  name = input(\"Enter the name of the contact you want to delete: \")\n",
    "  if name in contacts:\n",
    "    del contacts[name]\n",
    "    print(f\"Contact {name} has been deleted successfully!\")\n",
    "  else:\n",
    "    print(f\"Contact {name} not found in your contact book.\")\n",
    "\n",
    "# Step 8: Main Program Loop\n",
    "while True:\n",
    "  show_menu()\n",
    "  choice = input(\"Enter your choice (1-6): \")\n",
    "\n",
    "  if choice == \"1\":\n",
    "    add_contact()\n",
    "  elif choice == \"2\":\n",
    "    view_contacts()\n",
    "  elif choice == \"3\":\n",
    "    search_contact()\n",
    "  elif choice == \"4\":\n",
    "    edit_contact()\n",
    "  elif choice == \"5\":\n",
    "    delete_contact()\n",
    "  elif choice == \"6\":\n",
    "    print(\"Thank you for using the Contact Book. Goodbye!\")\n",
    "    break\n",
    "  else:\n",
    "    print(\"Invalid choice. Please select a valid option (1-6).\")"
   ]
  },
  {
   "cell_type": "code",
   "execution_count": null,
   "id": "85e79380-bbf0-428a-87cb-244890873bf1",
   "metadata": {},
   "outputs": [],
   "source": []
  }
 ],
 "metadata": {
  "kernelspec": {
   "display_name": "Python 3 (ipykernel)",
   "language": "python",
   "name": "python3"
  },
  "language_info": {
   "codemirror_mode": {
    "name": "ipython",
    "version": 3
   },
   "file_extension": ".py",
   "mimetype": "text/x-python",
   "name": "python",
   "nbconvert_exporter": "python",
   "pygments_lexer": "ipython3",
   "version": "3.12.4"
  }
 },
 "nbformat": 4,
 "nbformat_minor": 5
}
