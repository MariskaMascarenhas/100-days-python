{
 "cells": [
  {
   "cell_type": "code",
   "execution_count": 1,
   "id": "8e81f03f-2fa7-4dd6-8f0e-c0fe34f76a73",
   "metadata": {},
   "outputs": [],
   "source": [
    "#Day1:Welcome Message Generator Print Statement & \"Hello World\"\n"
   ]
  },
  {
   "cell_type": "code",
   "execution_count": 16,
   "id": "c299d667-cf19-4259-b36b-908e0787a570",
   "metadata": {},
   "outputs": [
    {
     "name": "stdin",
     "output_type": "stream",
     "text": [
      "What's your name? mariska\n",
      "Enter your age:  20\n",
      "What's your favourite hobby? music\n"
     ]
    },
    {
     "name": "stdout",
     "output_type": "stream",
     "text": [
      "\n",
      "-- Welcome Message ---\n",
      "Hello, Mariska!👋\n",
      "Welcome to the world of Python Programming!\n",
      "Current date and time: Monday,01 September 2025, 12:36 PM\n",
      "\n",
      "🎉 Let's have some fun with Python today! 🎉\n",
      "It's great to know that you love Music.\n",
      "Get ready to create something amazing today! 🚀\n"
     ]
    }
   ],
   "source": [
    "#Welcome Messsage Generator\n",
    "\n",
    "from datetime import datetime\n",
    "\n",
    "#Step 1:Ask for user details\n",
    "name=input(\"What's your name?\").strip().title()\n",
    "while not name.replace(\" \",\"\").isalpha():\n",
    "    name=input(\"Please enter a valid name (letters only): \").strip().title()\n",
    "\n",
    "age=input(\"Enter your age: \").strip()\n",
    "while not age.isdigit():\n",
    "    age=input(\"Please enter a valid number: \").strip()\n",
    "age=int(age)  \n",
    "hobby=input(\"What's your favourite hobby?\").strip().title()\n",
    "while not hobby:\n",
    "    hobby=input(\"What's your favourite hobby?\").strip().title()\n",
    "\n",
    "#Get currrent date and time\n",
    "now=datetime.now()\n",
    "current_time=now.strftime(\"%A,%d %B %Y, %I:%M %p\") \n",
    "\n",
    "\n",
    "#Step 2: Generate a personalize welcome message\n",
    "print(\"\\n-- Welcome Message ---\")\n",
    "print(f\"Hello, {name}!👋\")\n",
    "print(f\"Welcome to the world of Python Programming!\")\n",
    "print(f\"Current date and time: {current_time}\")\n",
    "print(\"\\n🎉 Let's have some fun with Python today! 🎉\")\n",
    "print(f\"It's great to know that you love {hobby}.\")\n",
    "print(\"Get ready to create something amazing today! 🚀\")"
   ]
  },
  {
   "cell_type": "code",
   "execution_count": null,
   "id": "afdbf85e-c599-4783-bf2a-efd2f9fa0577",
   "metadata": {},
   "outputs": [],
   "source": []
  }
 ],
 "metadata": {
  "kernelspec": {
   "display_name": "Python 3 (ipykernel)",
   "language": "python",
   "name": "python3"
  },
  "language_info": {
   "codemirror_mode": {
    "name": "ipython",
    "version": 3
   },
   "file_extension": ".py",
   "mimetype": "text/x-python",
   "name": "python",
   "nbconvert_exporter": "python",
   "pygments_lexer": "ipython3",
   "version": "3.12.4"
  }
 },
 "nbformat": 4,
 "nbformat_minor": 5
}
