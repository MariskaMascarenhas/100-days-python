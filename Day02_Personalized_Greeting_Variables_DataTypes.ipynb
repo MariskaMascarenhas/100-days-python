{
 "cells": [
  {
   "cell_type": "code",
   "execution_count": 1,
   "id": "d1a1066a-f365-46ef-86f8-4c906bcd10dc",
   "metadata": {},
   "outputs": [],
   "source": [
    "#Day 2:Personalized Greeting Program:Variables & Data Types"
   ]
  },
  {
   "cell_type": "code",
   "execution_count": null,
   "id": "dde2c817-32da-461c-b2a3-66fb499de1b2",
   "metadata": {},
   "outputs": [],
   "source": [
    "#Personalized Greeting Program\n",
    "\n",
    "from datetime import datetime\n",
    "import random\n",
    "#Step 1:Ask for user details\n",
    "name=input(\"What's your name?\").strip().title()\n",
    "while not name.replace(\" \",\"\").isalpha():\n",
    "    name=input(\"Enter your name⚠️!\").strip().title()\n",
    "if len(name)>3:\n",
    "    nickname=name[:3]\n",
    "else:\n",
    "    nickname=name\n",
    "    \n",
    "now=datetime.now()\n",
    "current_datetime=now.strftime(\"%A, %B %d, %Y %I:%M %p\")\n",
    "\n",
    "while True:\n",
    "        birth_year=input(\"Enter your birth year?\")\n",
    "        if birth_year.isdigit():\n",
    "            birth_year=int(birth_year)\n",
    "            break\n",
    "        else:\n",
    "            print(\"⚠️ Please enter valid birth year(numbers only)!\")\n",
    "    \n",
    "current_age=now.year-birth_year    \n",
    "color=input(\"What is your favourite color?\").strip().title()\n",
    "while not color.replace(\" \",\"\").isalpha():\n",
    "    color=input(\"What is your favourite color?\").strip().title()\n",
    "\n",
    "#Step 2:Generate a personalized message\n",
    "print(\"\\n\"+\"-\" * 40)\n",
    "print(\"------Personalized Greeting -----\")\n",
    "print(f\"Hello, {name} 👋\")\n",
    "print(f\"Yor nickname is {nickname}\")\n",
    "print(f\"{color} is a beautiful color!\")\n",
    "print(f\"Your current age is {current_age}\")\n",
    "print(f\"Current date time is {current_datetime}\")\n",
    "print(\"You're ready to start your Python adventure 🐍\")\n",
    "print(\"-\" * 40)"
   ]
  },
  {
   "cell_type": "code",
   "execution_count": null,
   "id": "7fb2fb29-1680-4c61-9c20-2a6f49212f39",
   "metadata": {},
   "outputs": [],
   "source": []
  }
 ],
 "metadata": {
  "kernelspec": {
   "display_name": "Python 3 (ipykernel)",
   "language": "python",
   "name": "python3"
  },
  "language_info": {
   "codemirror_mode": {
    "name": "ipython",
    "version": 3
   },
   "file_extension": ".py",
   "mimetype": "text/x-python",
   "name": "python",
   "nbconvert_exporter": "python",
   "pygments_lexer": "ipython3",
   "version": "3.12.4"
  }
 },
 "nbformat": 4,
 "nbformat_minor": 5
}
