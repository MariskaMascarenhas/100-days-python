{
 "cells": [
  {
   "cell_type": "code",
   "execution_count": 1,
   "id": "a0d8f486-0ff4-4f23-99da-421451971bf8",
   "metadata": {},
   "outputs": [],
   "source": [
    "#Simple calcultor"
   ]
  },
  {
   "cell_type": "code",
   "execution_count": null,
   "id": "6e5b9e39-95a1-4951-8cb1-324ae36bd023",
   "metadata": {},
   "outputs": [
    {
     "name": "stdout",
     "output_type": "stream",
     "text": [
      "Welcome to the Simple Calculator\n"
     ]
    },
    {
     "name": "stdin",
     "output_type": "stream",
     "text": [
      "Select a choice 1)Addition 2)Subtraction 3)Multiplication 4)Division 5)Quit 4\n",
      "Enter a number:  4\n",
      "Enter a number:  2\n"
     ]
    },
    {
     "name": "stdout",
     "output_type": "stream",
     "text": [
      "The division of 4 and 2 is 2.0\n"
     ]
    }
   ],
   "source": [
    "print(\"Welcome to the Simple Calculator\")\n",
    "\n",
    "\n",
    "while True:\n",
    "    choice=input(\"Select a choice 1)Addition 2)Subtraction 3)Multiplication 4)Division 5)Quit\")\n",
    "    if choice==\"5\":\n",
    "        print(\"Goodbye!\")\n",
    "        break\n",
    "        \n",
    "    if choice not in (\"1\",\"2\",\"3\",\"4\"):\n",
    "        print(\"Invalid choice! Try again\")\n",
    "        continue\n",
    "    try:\n",
    "        num1=int(input(\"Enter a number: \"))\n",
    "        num2=int(input(\"Enter a number: \"))\n",
    "    except ValueError:\n",
    "        print(\"Please Enter a valid number ⚠️\")\n",
    "        continue\n",
    "    if choice==\"1\":\n",
    "        add=num1+num2\n",
    "        print(f\"The addition of {num1} and {num2} is {add}\")\n",
    "        \n",
    "    elif choice==\"2\":\n",
    "        sub=num1-num2\n",
    "        print(f\"The subtraction of {num1} and {num2} is {sub}\")\n",
    "        \n",
    "    elif choice==\"3\":\n",
    "        multiplication=num1*num2\n",
    "        print(f\"The multiplication of {num1} and {num2} is {multiplication}\")\n",
    "        \n",
    "    elif choice==\"4\":\n",
    "        if num2==0:\n",
    "            print(\"Error: Division by zero!\")\n",
    "            continue\n",
    "        else:\n",
    "            \n",
    "            print(f\"The division of {num1} and {num2} is {num1/num2}\")\n",
    "            \n",
    "    \n",
    "\n",
    "    \n",
    "        "
   ]
  },
  {
   "cell_type": "code",
   "execution_count": null,
   "id": "ab49da17-b366-4f0d-bbb0-65079ae5b571",
   "metadata": {},
   "outputs": [],
   "source": []
  }
 ],
 "metadata": {
  "kernelspec": {
   "display_name": "Python 3 (ipykernel)",
   "language": "python",
   "name": "python3"
  },
  "language_info": {
   "codemirror_mode": {
    "name": "ipython",
    "version": 3
   },
   "file_extension": ".py",
   "mimetype": "text/x-python",
   "name": "python",
   "nbconvert_exporter": "python",
   "pygments_lexer": "ipython3",
   "version": "3.12.4"
  }
 },
 "nbformat": 4,
 "nbformat_minor": 5
}
