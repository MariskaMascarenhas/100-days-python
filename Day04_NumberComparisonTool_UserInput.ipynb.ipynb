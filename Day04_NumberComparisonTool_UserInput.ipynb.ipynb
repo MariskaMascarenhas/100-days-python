{
 "cells": [
  {
   "cell_type": "code",
   "execution_count": 1,
   "id": "73e43ed5-e0bf-4496-b585-3462f602f2e8",
   "metadata": {},
   "outputs": [],
   "source": [
    "#Number Comparison Tool"
   ]
  },
  {
   "cell_type": "code",
   "execution_count": 4,
   "id": "f74a12f7-0b3f-4565-8d0b-ba9f5e6b2005",
   "metadata": {},
   "outputs": [
    {
     "name": "stdin",
     "output_type": "stream",
     "text": [
      "Enter a number: 1\n",
      "Enter a number: 4\n",
      "Enter a number: 5\n"
     ]
    },
    {
     "name": "stdout",
     "output_type": "stream",
     "text": [
      "\n",
      "----Comparison Result---\n",
      "The largest number is 5.0\n",
      "\n",
      " Both numbers are non zero\n"
     ]
    }
   ],
   "source": [
    "#Step1:Get user input for two number\n",
    "while True:\n",
    "    try:\n",
    "        num1=float(input(\"Enter a number:\"))\n",
    "        num2=float(input(\"Enter a number:\"))\n",
    "        num3=float(input(\"Enter a number:\"))\n",
    "        break\n",
    "    except ValueError:\n",
    "        print(\"Invalid!Enter a correct value\")\n",
    "        continue\n",
    "    \n",
    "#Step2:Compare the numbers\n",
    "print(\"\\n----Comparison Result---\")\n",
    "if num1==num2==num3:\n",
    "    print(\"All the 3numbers have the same value\")\n",
    "elif num1>num2 and num1>num3:\n",
    "    print(f\"The largest number is {num1}\")\n",
    "elif num2>num1 and num2>num3 :\n",
    "    print(f\"{num2} is greater than {num1}\")\n",
    "elif num3>num1:\n",
    "    print(f\"{num2} is greater than {num1}\")\n",
    "#Step3:Check if any of the numbers are zero\n",
    "if num1==0 or num2==0 or num3==0:\n",
    "    print(\"\\nAtleast one of the number is zero\")\n",
    "else:\n",
    "    print(\"\\n Both numbers are non zero\")"
   ]
  },
  {
   "cell_type": "code",
   "execution_count": null,
   "id": "4ebced87-83dc-438e-bbc7-578330e6eca0",
   "metadata": {},
   "outputs": [],
   "source": []
  }
 ],
 "metadata": {
  "kernelspec": {
   "display_name": "Python 3 (ipykernel)",
   "language": "python",
   "name": "python3"
  },
  "language_info": {
   "codemirror_mode": {
    "name": "ipython",
    "version": 3
   },
   "file_extension": ".py",
   "mimetype": "text/x-python",
   "name": "python",
   "nbconvert_exporter": "python",
   "pygments_lexer": "ipython3",
   "version": "3.12.4"
  }
 },
 "nbformat": 4,
 "nbformat_minor": 5
}
