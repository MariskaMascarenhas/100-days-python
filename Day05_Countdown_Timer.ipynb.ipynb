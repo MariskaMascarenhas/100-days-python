{
 "cells": [
  {
   "cell_type": "code",
   "execution_count": 3,
   "id": "fc6cff43-851f-403d-8d45-d779738c2119",
   "metadata": {},
   "outputs": [],
   "source": [
    "#Countdown Timer"
   ]
  },
  {
   "cell_type": "code",
   "execution_count": 16,
   "id": "6c5ef130-768b-4385-848b-5ff09dadc81a",
   "metadata": {},
   "outputs": [
    {
     "name": "stdin",
     "output_type": "stream",
     "text": [
      "Enter a number to start the countdown from:  5\n",
      "Enter the delay (seconds) between numbers 1\n"
     ]
    },
    {
     "name": "stdout",
     "output_type": "stream",
     "text": [
      "The count down begins\n",
      "5\n",
      "4\n",
      "3\n",
      "2\n",
      "1\n",
      "Blast off 🚀\n"
     ]
    }
   ],
   "source": [
    "import time\n",
    "\n",
    "#Step1:Get User input for coundown start\n",
    "while True:\n",
    "    try:\n",
    "        start=int(input(\"Enter a number to start the countdown from: \"))\n",
    "    except ValueError:\n",
    "        print(\"Enter a correct value⚠️\")\n",
    "        continue\n",
    "        \n",
    "    while True:\n",
    "        try:\n",
    "            delay=int(input(\"Enter the delay (seconds) between numbers\"))\n",
    "        except ValueError:\n",
    "            print(\"Enter a correct value⚠️\")\n",
    "            continue\n",
    "            \n",
    "\n",
    "        print(\"The count down begins\")\n",
    "        while start>0:\n",
    "            print(start)\n",
    "            time.sleep(delay)\n",
    "            start-=1\n",
    "        print(\"Blast off 🚀\")\n",
    "        break\n",
    "    break"
   ]
  },
  {
   "cell_type": "code",
   "execution_count": null,
   "id": "b779c21d-c342-4014-843c-12ed9b4519ba",
   "metadata": {},
   "outputs": [],
   "source": []
  }
 ],
 "metadata": {
  "kernelspec": {
   "display_name": "Python 3 (ipykernel)",
   "language": "python",
   "name": "python3"
  },
  "language_info": {
   "codemirror_mode": {
    "name": "ipython",
    "version": 3
   },
   "file_extension": ".py",
   "mimetype": "text/x-python",
   "name": "python",
   "nbconvert_exporter": "python",
   "pygments_lexer": "ipython3",
   "version": "3.12.4"
  }
 },
 "nbformat": 4,
 "nbformat_minor": 5
}
