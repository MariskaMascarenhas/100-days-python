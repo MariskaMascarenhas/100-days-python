{
 "cells": [
  {
   "cell_type": "code",
   "execution_count": 1,
   "id": "c942024c-5006-4ce9-8e08-41fb3c0937ed",
   "metadata": {},
   "outputs": [],
   "source": [
    "#Day6:Basic Math Quizz Game"
   ]
  },
  {
   "cell_type": "code",
   "execution_count": 7,
   "id": "3be7f045-af8d-4438-a91b-9bf50cd08710",
   "metadata": {},
   "outputs": [
    {
     "name": "stdout",
     "output_type": "stream",
     "text": [
      "\n",
      "----Welcome to the Math Quiz Game!-----\n",
      "You will be presented with math problems and you need to provide the correct answers.\n",
      "Question 1: 5 + 6\n"
     ]
    },
    {
     "name": "stdin",
     "output_type": "stream",
     "text": [
      "Your answer:  11\n"
     ]
    },
    {
     "name": "stdout",
     "output_type": "stream",
     "text": [
      "Correct Answer👏!\n",
      "Question 2: 5 - 1\n"
     ]
    },
    {
     "name": "stdin",
     "output_type": "stream",
     "text": [
      "Your answer:  4\n"
     ]
    },
    {
     "name": "stdout",
     "output_type": "stream",
     "text": [
      "Correct Answer👏!\n",
      "Question 3: 4 / 9\n"
     ]
    },
    {
     "name": "stdin",
     "output_type": "stream",
     "text": [
      "Your answer:  3\n"
     ]
    },
    {
     "name": "stdout",
     "output_type": "stream",
     "text": [
      "Wrong Answer! The correct answer is 0.4444444444444444\n",
      "Question 4: 6 / 1\n"
     ]
    },
    {
     "name": "stdin",
     "output_type": "stream",
     "text": [
      "Your answer:  3\n"
     ]
    },
    {
     "name": "stdout",
     "output_type": "stream",
     "text": [
      "Wrong Answer! The correct answer is 6.0\n",
      "Question 5: 9 / 8\n"
     ]
    },
    {
     "name": "stdin",
     "output_type": "stream",
     "text": [
      "Your answer:  3\n"
     ]
    },
    {
     "name": "stdout",
     "output_type": "stream",
     "text": [
      "Wrong Answer! The correct answer is 1.125\n",
      "\n",
      "---Game Over!!---\n",
      "Your final score is 2/5\n",
      "Good job! You did well.\n"
     ]
    }
   ],
   "source": [
    "# Basic math quizz\n",
    "\n",
    "import random\n",
    "\n",
    "#Step1:Define a math question function\n",
    "def generate_question():\n",
    "    num1=random.randint(1,10)\n",
    "    num2=random.randint(1,10)\n",
    "    operator=random.choice([\"+\",\"-\",\"/\",\"*\"])\n",
    "\n",
    "\n",
    "    if operator==\"+\":\n",
    "        answer=num1+num2\n",
    "        \n",
    "    elif operator==\"-\":\n",
    "        answer=num1-num2\n",
    "        \n",
    "    elif operator==\"/\":\n",
    "        answer=num1/num2\n",
    "       \n",
    "    elif operator==\"*\":\n",
    "        answer=num1*num2\n",
    "\n",
    "    return f\"{num1} {operator} {num2}\",answer\n",
    "\n",
    "#Step 2:Main Math Quiz question\n",
    "def math_quiz():\n",
    "    score=0\n",
    "    rounds=5\n",
    "\n",
    "    print(\"\\n----Welcome to the Math Quiz Game!-----\")\n",
    "    print(\"You will be presented with math problems and you need to provide the correct answers.\")\n",
    "\n",
    "    for i in range(rounds):\n",
    "        question,correct_answer=generate_question()\n",
    "        print(f\"Question {i+1}: {question}\")\n",
    "        user_answer=float(input(\"Your answer: \"))\n",
    "\n",
    "        if user_answer==correct_answer:\n",
    "            print(\"Correct Answer👏!\")\n",
    "            score+=1\n",
    "        else:\n",
    "            print(f\"Wrong Answer! The correct answer is {correct_answer}\")\n",
    "\n",
    "\n",
    "    print(\"\\n---Game Over!!---\")\n",
    "    print(f\"Your final score is {score}/{rounds}\")\n",
    "    if score==rounds:\n",
    "        print(\"Congratulations! You got all the questions correct.\")\n",
    "    elif score>=rounds //2:\n",
    "        print(\"Good job! You did well.\")\n",
    "    else:\n",
    "        print(\"Keep practicing! You can do better next time.\")\n",
    "\n",
    "#Step 3: Run the Game\n",
    "math_quiz()"
   ]
  },
  {
   "cell_type": "code",
   "execution_count": null,
   "id": "6ad4997b-2d68-4277-8bc2-ad1fe4fabd1c",
   "metadata": {},
   "outputs": [],
   "source": []
  },
  {
   "cell_type": "code",
   "execution_count": null,
   "id": "9a9e45c0-f136-4967-baba-451c96e8be97",
   "metadata": {},
   "outputs": [],
   "source": []
  }
 ],
 "metadata": {
  "kernelspec": {
   "display_name": "Python 3 (ipykernel)",
   "language": "python",
   "name": "python3"
  },
  "language_info": {
   "codemirror_mode": {
    "name": "ipython",
    "version": 3
   },
   "file_extension": ".py",
   "mimetype": "text/x-python",
   "name": "python",
   "nbconvert_exporter": "python",
   "pygments_lexer": "ipython3",
   "version": "3.12.4"
  }
 },
 "nbformat": 4,
 "nbformat_minor": 5
}
