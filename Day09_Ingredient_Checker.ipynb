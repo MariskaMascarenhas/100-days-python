{
 "cells": [
  {
   "cell_type": "code",
   "execution_count": 1,
   "id": "a7a1df42-632c-409a-a0a6-18ba9ef6e775",
   "metadata": {},
   "outputs": [
    {
     "name": "stdin",
     "output_type": "stream",
     "text": [
      "Enter the ingredients you have (seperated by commas): flour,sugar,flour,eggs,water,pepper,salt\n"
     ]
    },
    {
     "name": "stdout",
     "output_type": "stream",
     "text": [
      "\n",
      "--- Ingredients Check Results ---\n",
      "You are missing the following ingredients: milk,butter\n",
      "You have extra ingredients: salt,pepper,water\n"
     ]
    }
   ],
   "source": [
    "#Ingredients Checker\n",
    "#Step 1:Define the recipe ingredients\n",
    "recipe_ingredients={\"flour\",\"sugar\",\"butter\",\"eggs\",\"milk\"}\n",
    "\n",
    "#Step 2: Get user input for available ingredients\n",
    "user_input=input(\"Enter the ingredients you have (seperated by commas):\")\n",
    "user_ingredients=set(user_input.split(\",\"))\n",
    "\n",
    "#Step 3: Compare Ingredients\n",
    "missing_ingredients=recipe_ingredients - user_ingredients\n",
    "extra_ingredients=user_ingredients - recipe_ingredients\n",
    "\n",
    "#Step 4: Display Results\n",
    "print(\"\\n--- Ingredients Check Results ---\")\n",
    "if missing_ingredients:\n",
    "    print(f\"You are missing the following ingredients: {','.join(missing_ingredients)}\")\n",
    "else:\n",
    "    print(\"You have all the ingredients needed.\")\n",
    "\n",
    "if extra_ingredients:\n",
    "    print(f\"You have extra ingredients: {','.join(extra_ingredients)}\")\n",
    "else:\n",
    "    print(\"You have all the ingredients needed.\")"
   ]
  },
  {
   "cell_type": "code",
   "execution_count": null,
   "id": "67132aab-33f6-451b-81dd-59687d2926ef",
   "metadata": {},
   "outputs": [],
   "source": []
  }
 ],
 "metadata": {
  "kernelspec": {
   "display_name": "Python 3 (ipykernel)",
   "language": "python",
   "name": "python3"
  },
  "language_info": {
   "codemirror_mode": {
    "name": "ipython",
    "version": 3
   },
   "file_extension": ".py",
   "mimetype": "text/x-python",
   "name": "python",
   "nbconvert_exporter": "python",
   "pygments_lexer": "ipython3",
   "version": "3.12.4"
  }
 },
 "nbformat": 4,
 "nbformat_minor": 5
}
