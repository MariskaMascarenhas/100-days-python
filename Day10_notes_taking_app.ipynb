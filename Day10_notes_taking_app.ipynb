{
 "cells": [
  {
   "cell_type": "code",
   "execution_count": null,
   "id": "50a84316-8a68-47fb-a513-74bb4f045798",
   "metadata": {},
   "outputs": [
    {
     "name": "stdout",
     "output_type": "stream",
     "text": [
      "\n",
      "\n",
      "--- Note-Taking App Menu ---\n",
      "1. Add a new note\n",
      "2. View all notes\n",
      "3. Delete all notes\n",
      "4. Exit\n"
     ]
    }
   ],
   "source": [
    "with open(\"notes.txt\", \"r\") as file:\n",
    "  content = file.read()\n",
    "  print(content)\n",
    "\n",
    "with open(\"notes.txt\", \"w\") as file:\n",
    "  file.write(\"\\nThis is a new note.\\n\")\n",
    "\n",
    "with open(\"notes1.txt\", \"a\") as file:\n",
    "  file.write(\"\\nThis is a new second note.\")\n",
    "\n",
    "# Note-Taking App\n",
    "\n",
    "# Step 1: Define file name\n",
    "FILE_NAME = \"myNotes.txt\"\n",
    "\n",
    "# Step 2: Display menu options\n",
    "def show_menu():\n",
    "  print(\"\\n--- Note-Taking App Menu ---\")\n",
    "  print(\"1. Add a new note\")\n",
    "  print(\"2. View all notes\")\n",
    "  print(\"3. Delete all notes\")\n",
    "  print(\"4. Exit\")\n",
    "\n",
    "# Step 3: Add a new note\n",
    "def add_note():\n",
    "  note = input(\"Enter your note: \")\n",
    "  with open(FILE_NAME, \"a\") as file:\n",
    "    file.write(note + \"\\n\")\n",
    "  print(\"Note added successfully!\")\n",
    "\n",
    "# Step 4: View all notes\n",
    "def view_notes():\n",
    "  try:\n",
    "    with open(FILE_NAME, \"r\") as file:\n",
    "      content = file.read()\n",
    "      if content:\n",
    "        print(\"\\n--- Your Notes ---\")\n",
    "        print(content)\n",
    "      else:\n",
    "        print(\"\\nNo notes found.\")\n",
    "  except FileNotFoundError:\n",
    "    print(\"No notes found.\")\n",
    "\n",
    "# Step 5: Delete all notes\n",
    "def delete_notes():\n",
    "  confirm = input(\"Are you sure you want to delete all notes? (Yes/n): \")\n",
    "  if confirm.lower() == \"yes\":\n",
    "    with open(FILE_NAME, \"w\") as file:\n",
    "      pass\n",
    "    print(\"All notes have been deleted\")\n",
    "  else:\n",
    "    print(\"Deletion cancelled\")\n",
    "\n",
    "# Step 6: Main Program Loop\n",
    "while True:\n",
    "  show_menu()\n",
    "  choice = input(\"Enter your choice (1-4): \")\n",
    "\n",
    "  if choice == \"1\":\n",
    "    add_note()\n",
    "  elif choice == \"2\":\n",
    "    view_notes()\n",
    "  elif choice == \"3\":\n",
    "    delete_notes()\n",
    "  elif choice == \"4\":\n",
    "    print(\"Exiting Note-Taking App. Goodbye!\")\n",
    "    break\n",
    "  else:\n",
    "    print(\"Invalid choice. Please enter a number between 1 and 4.\")"
   ]
  },
  {
   "cell_type": "code",
   "execution_count": null,
   "id": "3b1c0afa-cb12-4701-a2e7-ebe953f79325",
   "metadata": {},
   "outputs": [],
   "source": []
  }
 ],
 "metadata": {
  "kernelspec": {
   "display_name": "Python 3 (ipykernel)",
   "language": "python",
   "name": "python3"
  },
  "language_info": {
   "codemirror_mode": {
    "name": "ipython",
    "version": 3
   },
   "file_extension": ".py",
   "mimetype": "text/x-python",
   "name": "python",
   "nbconvert_exporter": "python",
   "pygments_lexer": "ipython3",
   "version": "3.12.4"
  }
 },
 "nbformat": 4,
 "nbformat_minor": 5
}
