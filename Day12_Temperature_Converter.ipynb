{
 "cells": [
  {
   "cell_type": "code",
   "execution_count": 1,
   "id": "9676fce8-22ec-40e6-8515-54d3083dda47",
   "metadata": {},
   "outputs": [],
   "source": [
    "def function_name():\n",
    "    #Code\n",
    "    return value"
   ]
  },
  {
   "cell_type": "code",
   "execution_count": 3,
   "id": "f445f308-f366-40ec-b04a-e29a36cd5cfc",
   "metadata": {},
   "outputs": [
    {
     "name": "stdout",
     "output_type": "stream",
     "text": [
      "30\n"
     ]
    }
   ],
   "source": [
    "def add(a,b):\n",
    "    return a+b\n",
    "\n",
    "result=add(10,20)\n",
    "print(result)"
   ]
  },
  {
   "cell_type": "code",
   "execution_count": 4,
   "id": "c4869936-7a9d-4a79-8276-08469c0936e0",
   "metadata": {},
   "outputs": [
    {
     "name": "stdout",
     "output_type": "stream",
     "text": [
      "200\n"
     ]
    }
   ],
   "source": [
    "def rectangle_area(width,height):\n",
    "    return width*height\n",
    "\n",
    "area=rectangle_area(10,20)\n",
    "print(area)"
   ]
  },
  {
   "cell_type": "code",
   "execution_count": 7,
   "id": "694e3ab4-b998-4ac8-b4bf-af9254a80ed1",
   "metadata": {},
   "outputs": [
    {
     "name": "stdout",
     "output_type": "stream",
     "text": [
      "5\n",
      "15\n",
      "50\n"
     ]
    }
   ],
   "source": [
    "def math_operations(a,b):\n",
    "    addition=a+b\n",
    "    subtraction=a-b\n",
    "    multiplication=a*b\n",
    "    division=a/b\n",
    "    return addition,subtraction,multiplication,division\n",
    "\n",
    "add,subtract,multiply,divide=math_operations(10,5)\n",
    "print(subtract)\n",
    "print(add)\n",
    "print(multiply)"
   ]
  },
  {
   "cell_type": "code",
   "execution_count": null,
   "id": "864b7e42-9404-4055-9645-2f16f1285e67",
   "metadata": {},
   "outputs": [
    {
     "name": "stdout",
     "output_type": "stream",
     "text": [
      "\n",
      "--- Temperature Converter Menu ---\n",
      "1.Celsius to Fahrenheit &Kelvin\n",
      "1.Fahrenheit to Celsius & Kelvin\n",
      "1.Kelvin to Celsius & Fahrenheit\n",
      "4.Exit\n"
     ]
    },
    {
     "name": "stdin",
     "output_type": "stream",
     "text": [
      "Enter your choice (1/2/3/4): 1\n",
      "Enter temperature in Celsius: 4\n"
     ]
    },
    {
     "name": "stdout",
     "output_type": "stream",
     "text": [
      "Fahrenheit: 39.20\n",
      "Kelvin: 277.15\n",
      "Invalid choice.Please select a valid option.\n",
      "\n",
      "--- Temperature Converter Menu ---\n",
      "1.Celsius to Fahrenheit &Kelvin\n",
      "1.Fahrenheit to Celsius & Kelvin\n",
      "1.Kelvin to Celsius & Fahrenheit\n",
      "4.Exit\n"
     ]
    },
    {
     "name": "stdin",
     "output_type": "stream",
     "text": [
      "Enter your choice (1/2/3/4): 10\n"
     ]
    },
    {
     "name": "stdout",
     "output_type": "stream",
     "text": [
      "Invalid choice.Please select a valid option.\n",
      "\n",
      "--- Temperature Converter Menu ---\n",
      "1.Celsius to Fahrenheit &Kelvin\n",
      "1.Fahrenheit to Celsius & Kelvin\n",
      "1.Kelvin to Celsius & Fahrenheit\n",
      "4.Exit\n"
     ]
    },
    {
     "name": "stdin",
     "output_type": "stream",
     "text": [
      "Enter your choice (1/2/3/4): 1\n",
      "Enter temperature in Celsius: 10\n"
     ]
    },
    {
     "name": "stdout",
     "output_type": "stream",
     "text": [
      "Fahrenheit: 50.00\n",
      "Kelvin: 283.15\n",
      "Invalid choice.Please select a valid option.\n",
      "\n",
      "--- Temperature Converter Menu ---\n",
      "1.Celsius to Fahrenheit &Kelvin\n",
      "1.Fahrenheit to Celsius & Kelvin\n",
      "1.Kelvin to Celsius & Fahrenheit\n",
      "4.Exit\n"
     ]
    }
   ],
   "source": [
    "#Temperature Converter\n",
    "\n",
    "#Step1:Define conversion functions\n",
    "def celsius_to_fahrenheit(celsius):\n",
    "    return (celsius *9/5) +32\n",
    "\n",
    "def celsius_to_kelvin(celsius):\n",
    "    return celsius+273.15\n",
    "\n",
    "def fahrenheit_to_celsius(fahreinheit):\n",
    "    return (fahrenheit -32)*5/9\n",
    "\n",
    "def fahrenheit_to_kelvin(fahreinheit):\n",
    "    return (fahrenheit -32)*5/9+273.15\n",
    "\n",
    "def kelvin_to_celsius(kelvin):\n",
    "    return (fahrenheit -32)*9/5+32\n",
    "\n",
    "\n",
    "#Step 2: Display the menu\n",
    "def show_menu():\n",
    "    print(\"\\n--- Temperature Converter Menu ---\")\n",
    "    print(\"1.Celsius to Fahrenheit &Kelvin\")\n",
    "    print(\"1.Fahrenheit to Celsius & Kelvin\")\n",
    "    print(\"1.Kelvin to Celsius & Fahrenheit\")\n",
    "    print(\"4.Exit\")\n",
    "\n",
    "#Step 3 : Main Program Loop\n",
    "while True:\n",
    "    show_menu()\n",
    "    choice=input(\"Enter your choice (1/2/3/4):\")\n",
    "\n",
    "    if choice=='1':\n",
    "        celsius=float(input(\"Enter temperature in Celsius:\"))\n",
    "        print(f\"Fahrenheit: {celsius_to_fahrenheit(celsius):.2f}\")\n",
    "        print(f\"Kelvin: {celsius_to_kelvin(celsius):.2f}\")\n",
    "    elif choice=='2':\n",
    "        fahrenheit=float(input(\"Enter temperature in Fahrenheit:\"))\n",
    "        print(f\"Celsius: {fahrenheit_to_celsius(fahrenheit):.2f}\")\n",
    "        print(f\"Fahrenheit: {fahrenheit_to_kelvin(fahrenheit):.2f}\")\n",
    "    if choice=='3':\n",
    "        kelvin=float(input(\"Enter temperature in Kelvin:\"))\n",
    "        print(f\"Celsius: {kelvin_to_celsius(kelvin):.2f}\")\n",
    "        print(f\"Fahrenheit: {fahrenheit_to_kelvin(kelvin):.2f}\")\n",
    "    if choice=='4':\n",
    "        print(\"Exiting the program.Goodbye!\")\n",
    "        break\n",
    "    else:\n",
    "        print(\"Invalid choice.Please select a valid option.\")\n",
    "        \n",
    "\n",
    "    \n",
    "    "
   ]
  },
  {
   "cell_type": "code",
   "execution_count": null,
   "id": "77b0aad5-a418-4dff-b77b-5638f98dba7d",
   "metadata": {},
   "outputs": [],
   "source": []
  },
  {
   "cell_type": "code",
   "execution_count": null,
   "id": "b12d3a1f-bbe0-47bb-82a9-718615f7d53d",
   "metadata": {},
   "outputs": [],
   "source": []
  },
  {
   "cell_type": "code",
   "execution_count": null,
   "id": "72ac7b49-d212-4a8c-92c5-56eaf5b317f8",
   "metadata": {},
   "outputs": [],
   "source": []
  }
 ],
 "metadata": {
  "kernelspec": {
   "display_name": "Python 3 (ipykernel)",
   "language": "python",
   "name": "python3"
  },
  "language_info": {
   "codemirror_mode": {
    "name": "ipython",
    "version": 3
   },
   "file_extension": ".py",
   "mimetype": "text/x-python",
   "name": "python",
   "nbconvert_exporter": "python",
   "pygments_lexer": "ipython3",
   "version": "3.12.4"
  }
 },
 "nbformat": 4,
 "nbformat_minor": 5
}
