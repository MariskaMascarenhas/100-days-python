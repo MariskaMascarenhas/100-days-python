{
 "cells": [
  {
   "cell_type": "code",
   "execution_count": 1,
   "id": "b6abe1be-f9b9-43d8-a9ad-d9aa2d3209e9",
   "metadata": {},
   "outputs": [
    {
     "ename": "NameError",
     "evalue": "name 'iterable' is not defined",
     "output_type": "error",
     "traceback": [
      "\u001b[1;31m---------------------------------------------------------------------------\u001b[0m",
      "\u001b[1;31mNameError\u001b[0m                                 Traceback (most recent call last)",
      "Cell \u001b[1;32mIn[1], line 1\u001b[0m\n\u001b[1;32m----> 1\u001b[0m [expression \u001b[38;5;28;01mfor\u001b[39;00m item \u001b[38;5;129;01min\u001b[39;00m iterable \u001b[38;5;28;01mif\u001b[39;00m condition]\n",
      "\u001b[1;31mNameError\u001b[0m: name 'iterable' is not defined"
     ]
    }
   ],
   "source": [
    "[expression for item in iterable if condition]"
   ]
  },
  {
   "cell_type": "code",
   "execution_count": 2,
   "id": "426d71f9-2a4a-42b1-b3b5-e928b3bf86c8",
   "metadata": {},
   "outputs": [
    {
     "name": "stdout",
     "output_type": "stream",
     "text": [
      "[0, 1, 4, 9, 16, 25, 36, 49, 64, 81]\n"
     ]
    }
   ],
   "source": [
    "squares=[x**2 for x in range(10)]\n",
    "print(squares)"
   ]
  },
  {
   "cell_type": "code",
   "execution_count": 3,
   "id": "17fc58ca-a144-4132-8aad-7eecdd279f01",
   "metadata": {},
   "outputs": [
    {
     "name": "stdout",
     "output_type": "stream",
     "text": [
      "[2, 4, 6, 8]\n"
     ]
    }
   ],
   "source": [
    "numbers=[1,2,3,4,5,6,7,8]\n",
    "even=[x for x in numbers if x%2==0]\n",
    "print(even)"
   ]
  },
  {
   "cell_type": "code",
   "execution_count": 4,
   "id": "f45e0d9d-1ef4-4c08-a775-d7fec55f7fe8",
   "metadata": {},
   "outputs": [
    {
     "name": "stdout",
     "output_type": "stream",
     "text": [
      "[2, 4, 6, 8, 10]\n"
     ]
    }
   ],
   "source": [
    "numbers=[1,2,3,4,5]\n",
    "doubled=[x*2 for x in numbers]\n",
    "print(doubled)"
   ]
  },
  {
   "cell_type": "code",
   "execution_count": 6,
   "id": "58cefae4-f9f3-4de6-b570-d88d54d16678",
   "metadata": {},
   "outputs": [
    {
     "name": "stdout",
     "output_type": "stream",
     "text": [
      "['Bob']\n"
     ]
    }
   ],
   "source": [
    "names=[\"Alice\",\"Bob\",\"Charlie\",\"Haris\"]\n",
    "short_names=[name for name in names if len(name)<5]\n",
    "print(short_names)"
   ]
  },
  {
   "cell_type": "code",
   "execution_count": 7,
   "id": "8b783ab4-0703-44ae-9a86-e7e69a1a9108",
   "metadata": {},
   "outputs": [
    {
     "name": "stdout",
     "output_type": "stream",
     "text": [
      "['Odd', 'Even', 'Odd', 'Even', 'Odd', 'Even']\n"
     ]
    }
   ],
   "source": [
    "numbers=[1,2,3,4,5,6]\n",
    "labels=[\"Even\" if x%2==0 else \"Odd\" for x in numbers]\n",
    "print(labels)"
   ]
  },
  {
   "cell_type": "code",
   "execution_count": 9,
   "id": "2522715b-361b-45f4-831a-b14fa67d9bf4",
   "metadata": {},
   "outputs": [
    {
     "name": "stdin",
     "output_type": "stream",
     "text": [
      "enter student scores seperately by commas:  70,30,80,99,100,50,70\n"
     ]
    },
    {
     "name": "stdout",
     "output_type": "stream",
     "text": [
      "\n",
      "---Student Grades ---\n",
      "Student 1:Score=70, Grade=C\n",
      "Student 2:Score=30, Grade=F\n",
      "Student 3:Score=80, Grade=B\n",
      "Student 4:Score=99, Grade=A\n",
      "Student 5:Score=100, Grade=A\n",
      "Student 6:Score=50, Grade=F\n",
      "Student 7:Score=70, Grade=C\n",
      "\n",
      "---Passing and Failing Students ---\n",
      "Passing Students: [70, 80, 99, 100, 70]\n",
      "Failing Students: [30, 50]\n"
     ]
    }
   ],
   "source": [
    "#Student Grade Manager\n",
    "\n",
    "#Step1:Get student scores\n",
    "student_scores=input(\"enter student scores seperately by commas: \")\n",
    "scores=[int(score) for score in student_scores.split(\",\")]\n",
    "\n",
    "#Step2 :Assign Grades using List Comprehension\n",
    "grades=[\n",
    "    \"A\" if score>=90 else\n",
    "    \"B\" if score>=80 else\n",
    "    \"C\" if score>=70 else\n",
    "    \"D\" if score>=60 else\n",
    "    \"F\"\n",
    "    for score in scores\n",
    "]\n",
    "\n",
    "#Step 3:Filter Passing and Failing Students\n",
    "passing_students=[score for score in scores if score>=60]\n",
    "failing_students=[score for score in scores if score<60]\n",
    "\n",
    "#Step 4:Print Results\n",
    "print(\"\\n---Student Grades ---\")\n",
    "for i, (score,grade) in enumerate(zip(scores,grades),start=1):\n",
    "    print(f\"Student {i}:Score={score}, Grade={grade}\")\n",
    "\n",
    "\n",
    "print(\"\\n---Passing and Failing Students ---\")\n",
    "print(\"Passing Students:\",passing_students)\n",
    "print(\"Failing Students:\",failing_students)\n",
    "\n",
    "\n",
    "\n",
    "\n"
   ]
  },
  {
   "cell_type": "code",
   "execution_count": null,
   "id": "50880127-f37e-4886-a36e-75a37a74af89",
   "metadata": {},
   "outputs": [],
   "source": []
  }
 ],
 "metadata": {
  "kernelspec": {
   "display_name": "Python 3 (ipykernel)",
   "language": "python",
   "name": "python3"
  },
  "language_info": {
   "codemirror_mode": {
    "name": "ipython",
    "version": 3
   },
   "file_extension": ".py",
   "mimetype": "text/x-python",
   "name": "python",
   "nbconvert_exporter": "python",
   "pygments_lexer": "ipython3",
   "version": "3.12.4"
  }
 },
 "nbformat": 4,
 "nbformat_minor": 5
}
