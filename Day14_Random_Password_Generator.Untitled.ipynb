{
 "cells": [
  {
   "cell_type": "code",
   "execution_count": 1,
   "id": "60394850-2703-4eda-96ec-0269dd47fa4a",
   "metadata": {},
   "outputs": [
    {
     "name": "stdout",
     "output_type": "stream",
     "text": [
      "5\n"
     ]
    }
   ],
   "source": [
    "import random,os,datetime\n",
    "print(random.randint(1,10))"
   ]
  },
  {
   "cell_type": "code",
   "execution_count": 6,
   "id": "75a510ca-8f12-4f33-aa12-e588ba4c7d0f",
   "metadata": {},
   "outputs": [
    {
     "name": "stdout",
     "output_type": "stream",
     "text": [
      "['Banana']\n"
     ]
    }
   ],
   "source": [
    "from random import choices\n",
    "print(choices([\"Apple\",\"Banana\",\"Cherry\"]))"
   ]
  },
  {
   "cell_type": "code",
   "execution_count": 7,
   "id": "95a5aab6-a490-4e9f-9992-6174a6f27a66",
   "metadata": {},
   "outputs": [
    {
     "name": "stdout",
     "output_type": "stream",
     "text": [
      "5\n"
     ]
    }
   ],
   "source": [
    "import random as r\n",
    "print(r.randint(1,10))"
   ]
  },
  {
   "cell_type": "code",
   "execution_count": 8,
   "id": "a8e47780-5bf6-4b4d-adb5-d249c8944597",
   "metadata": {},
   "outputs": [
    {
     "name": "stdout",
     "output_type": "stream",
     "text": [
      "2\n"
     ]
    }
   ],
   "source": [
    "from random import *\n",
    "print(randint(1,10))"
   ]
  },
  {
   "cell_type": "code",
   "execution_count": 9,
   "id": "7cbc0cb8-da82-46f4-8138-5ee1745c0362",
   "metadata": {},
   "outputs": [
    {
     "name": "stdout",
     "output_type": "stream",
     "text": [
      "22232cc1a3\n"
     ]
    }
   ],
   "source": [
    "import random\n",
    "\n",
    "password=''.join(random.choices('abc123',k=10))\n",
    "print(password)"
   ]
  },
  {
   "cell_type": "code",
   "execution_count": 10,
   "id": "a58fe367-7d91-484d-a18d-a9ded19c69bd",
   "metadata": {},
   "outputs": [
    {
     "name": "stdout",
     "output_type": "stream",
     "text": [
      "Hello, John!\n"
     ]
    }
   ],
   "source": [
    "import greetings\n",
    "print(greetings.say_hello(\"John\"))"
   ]
  },
  {
   "cell_type": "code",
   "execution_count": 14,
   "id": "a10806a8-7dfe-4e59-85cd-123a6f334853",
   "metadata": {},
   "outputs": [
    {
     "name": "stdin",
     "output_type": "stream",
     "text": [
      "Enter the desired password length (minimum 4):  6\n"
     ]
    },
    {
     "name": "stdout",
     "output_type": "stream",
     "text": [
      "Generated Password: 19w'Hd\n"
     ]
    }
   ],
   "source": [
    "#Random Password Generator\n",
    "import random,string\n",
    "\n",
    "#Step 1:Define Password Generation Function\n",
    "\n",
    "def generate_password(length=12):\n",
    "    if length<4:\n",
    "        raise ValueError(\"Password length must be at least 4 characters\")\n",
    "\n",
    "    #Character sets for the password\n",
    "    uppercase=string.ascii_uppercase\n",
    "    lowercase=string.ascii_lowercase\n",
    "    digits=string.digits\n",
    "    special_chars=\"!@#$%^&*()_+[]{}|;:',.<>?/\"\n",
    "\n",
    "    #Ensure at least one of each character type\n",
    "    password=[\n",
    "        random.choice(uppercase),\n",
    "        random.choice(lowercase),\n",
    "        random.choice(digits),\n",
    "        random.choice(special_chars)\n",
    "    ]\n",
    "    #Fill the remaining lenght with random choices from all sets\n",
    "    all_chars=uppercase+lowercase+digits+special_chars\n",
    "    password+=random.choices(all_chars,k=length-4)\n",
    "    #Shuffle the password to make it more random\n",
    "    random.shuffle(password)\n",
    "\n",
    "    #Convert the list to a string and return \n",
    "    return ''.join(password)\n",
    "\n",
    "#Step 2:User Interaction\n",
    "\n",
    "try:\n",
    "    length=int(input(\"Enter the desired password length (minimum 4): \"))\n",
    "    password=generate_password(length)\n",
    "    print(\"Generated Password:\",password)\n",
    "except ValueError as e:\n",
    "    print(e)\n",
    "\n",
    "    "
   ]
  },
  {
   "cell_type": "code",
   "execution_count": null,
   "id": "44fc2a3e-59ee-4585-8aad-d1b28cd35b15",
   "metadata": {},
   "outputs": [],
   "source": []
  },
  {
   "cell_type": "code",
   "execution_count": null,
   "id": "a5be6f9c-bf96-4396-98ff-33adf3bb9fa6",
   "metadata": {},
   "outputs": [],
   "source": []
  },
  {
   "cell_type": "code",
   "execution_count": null,
   "id": "326847f5-8b05-42b0-b8e5-8f2a7fb9eb07",
   "metadata": {},
   "outputs": [],
   "source": []
  },
  {
   "cell_type": "code",
   "execution_count": null,
   "id": "8f420d38-f48f-432f-88d5-81db2523642b",
   "metadata": {},
   "outputs": [],
   "source": [
    "\n"
   ]
  },
  {
   "cell_type": "code",
   "execution_count": null,
   "id": "ae3943d8-5d3d-4191-a838-00c0ec99bc0c",
   "metadata": {},
   "outputs": [],
   "source": []
  },
  {
   "cell_type": "code",
   "execution_count": null,
   "id": "455b8c6c-0013-43a4-bb86-fcf81e97fcf5",
   "metadata": {},
   "outputs": [],
   "source": []
  },
  {
   "cell_type": "code",
   "execution_count": null,
   "id": "0e730b3e-abf7-414f-9e2c-1bcf9b7764fc",
   "metadata": {},
   "outputs": [],
   "source": []
  }
 ],
 "metadata": {
  "kernelspec": {
   "display_name": "Python 3 (ipykernel)",
   "language": "python",
   "name": "python3"
  },
  "language_info": {
   "codemirror_mode": {
    "name": "ipython",
    "version": 3
   },
   "file_extension": ".py",
   "mimetype": "text/x-python",
   "name": "python",
   "nbconvert_exporter": "python",
   "pygments_lexer": "ipython3",
   "version": "3.12.4"
  }
 },
 "nbformat": 4,
 "nbformat_minor": 5
}
