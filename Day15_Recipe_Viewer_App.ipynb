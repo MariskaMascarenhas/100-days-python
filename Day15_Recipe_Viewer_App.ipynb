{
 "cells": [
  {
   "cell_type": "code",
   "execution_count": 2,
   "id": "ac628d53-146b-4c7a-a10d-0f9405a7cca2",
   "metadata": {},
   "outputs": [
    {
     "name": "stdout",
     "output_type": "stream",
     "text": [
      "Recipe: Pancakes\n",
      "Ingredients:Flour,Milk,Eggs,Sugar\n",
      "Instructions:Mix and fry\n",
      "\n"
     ]
    }
   ],
   "source": [
    "with open(\"sample.txt\",\"r\") as file:\n",
    "    content=file.read()\n",
    "    print(content)"
   ]
  },
  {
   "cell_type": "code",
   "execution_count": 3,
   "id": "a99b91a4-8d61-4ca9-9fd5-f7a764683601",
   "metadata": {},
   "outputs": [
    {
     "name": "stdout",
     "output_type": "stream",
     "text": [
      "Recipe: Pancakes\n",
      "Ingredients:Flour,Milk,Eggs,Sugar\n",
      "Instructions:Mix and fry\n"
     ]
    }
   ],
   "source": [
    "with open(\"sample.txt\",\"r\") as file:\n",
    "    for line in file:\n",
    "        print(line.strip())"
   ]
  },
  {
   "cell_type": "code",
   "execution_count": 4,
   "id": "e7558697-4ad5-4321-a3d8-2538ebe1f810",
   "metadata": {},
   "outputs": [
    {
     "name": "stdout",
     "output_type": "stream",
     "text": [
      "Recipe: Pancakes\n",
      "Ingredients:Flour,Milk,Eggs,Sugar\n",
      "Instructions:Mix and fry\n"
     ]
    }
   ],
   "source": [
    "with open(\"sample.txt\", \"r\") as file:\n",
    "    lines=file.readlines()\n",
    "    for line in lines:\n",
    "        print(line.strip())"
   ]
  },
  {
   "cell_type": "code",
   "execution_count": 5,
   "id": "ffeca43c-c657-4412-b8c6-0bc0e4632440",
   "metadata": {},
   "outputs": [
    {
     "name": "stdout",
     "output_type": "stream",
     "text": [
      "Recipe: Pancakes\n",
      "Ingredients:Flour,Milk,Eggs,Sugar\n",
      "Instructions:Mix and fry\n",
      "\n"
     ]
    }
   ],
   "source": [
    "try:\n",
    "    with open(\"sample.txt\",\"r\") as file:\n",
    "        content=file.read()\n",
    "        print(content)\n",
    "except FileNotFoundError:\n",
    "    print(\"File not found.\")"
   ]
  },
  {
   "cell_type": "code",
   "execution_count": 10,
   "id": "5b22fbe0-7274-4af3-99b7-24d707a425b6",
   "metadata": {},
   "outputs": [
    {
     "name": "stdout",
     "output_type": "stream",
     "text": [
      "File not found.\n",
      "\n",
      "--- Recipe Viewer Menu ---\n",
      "1. View Recipe by Name\n",
      "2. List All Recipes\n",
      "3. Exit\n"
     ]
    },
    {
     "name": "stdin",
     "output_type": "stream",
     "text": [
      "Enter your choice (1/2/3):  1\n",
      "Enter the name of the recipe:  sugar\n"
     ]
    },
    {
     "name": "stdout",
     "output_type": "stream",
     "text": [
      "Recipe not found.\n",
      "\n",
      "--- Recipe Viewer Menu ---\n",
      "1. View Recipe by Name\n",
      "2. List All Recipes\n",
      "3. Exit\n"
     ]
    },
    {
     "name": "stdin",
     "output_type": "stream",
     "text": [
      "Enter your choice (1/2/3):  2\n"
     ]
    },
    {
     "name": "stdout",
     "output_type": "stream",
     "text": [
      "\n",
      "--- All Recipes ---\n",
      "\n",
      "--- Recipe Viewer Menu ---\n",
      "1. View Recipe by Name\n",
      "2. List All Recipes\n",
      "3. Exit\n"
     ]
    },
    {
     "name": "stdin",
     "output_type": "stream",
     "text": [
      "Enter your choice (1/2/3):  3\n"
     ]
    },
    {
     "name": "stdout",
     "output_type": "stream",
     "text": [
      "Exiting the program.\n"
     ]
    }
   ],
   "source": [
    "# Recipe Viewer App\n",
    "\n",
    "# Step 1: Load Recipes From File\n",
    "def load_recipes(file_path):\n",
    "    try:\n",
    "        with open(file_path, \"r\") as file:\n",
    "            content = file.read().strip()\n",
    "            recipes = content.split(\"\\n\\n\")\n",
    "            recipe_dict = {}\n",
    "            for recipe in recipes:\n",
    "                lines = recipe.split(\"\\n\")\n",
    "                if len(lines) >= 3:\n",
    "                    name = lines[0].strip()\n",
    "                    ingredients = lines[1].replace('Ingredients: ', '').strip()\n",
    "                    instructions = lines[2].replace('Instructions: ', '').strip()\n",
    "                    recipe_dict[name] = {\n",
    "                        \"ingredients\": ingredients,\n",
    "                        \"instructions\": instructions\n",
    "                    }\n",
    "            return recipe_dict\n",
    "    except FileNotFoundError:\n",
    "        print(\"File not found.\")\n",
    "        return {}\n",
    "\n",
    "# Step 2: Display Recipe Menu\n",
    "def show_menu():\n",
    "    print(\"\\n--- Recipe Viewer Menu ---\")\n",
    "    print(\"1. View Recipe by Name\")\n",
    "    print(\"2. List All Recipes\")\n",
    "    print(\"3. Exit\")\n",
    "\n",
    "# Step 3: Display Recipe Details\n",
    "def view_recipe(recipes):\n",
    "    name = input(\"Enter the name of the recipe: \").strip()\n",
    "    if name in recipes:\n",
    "        print(f\"\\n--- Recipe: {name} ---\")\n",
    "        print(f\"Ingredients: {recipes[name]['ingredients']}\")\n",
    "        print(f\"Instructions: {recipes[name]['instructions']}\")\n",
    "    else:\n",
    "        print(\"Recipe not found.\")\n",
    "\n",
    "# Step 4: Main Program\n",
    "recipe_file = \"recipes.txt\"\n",
    "recipes = load_recipes(recipe_file)\n",
    "\n",
    "while True:\n",
    "    show_menu()\n",
    "    choice = input(\"Enter your choice (1/2/3): \").strip()\n",
    "\n",
    "    if choice == '1':\n",
    "        view_recipe(recipes)\n",
    "    elif choice == '2':\n",
    "        print(\"\\n--- All Recipes ---\")\n",
    "        for name in recipes:\n",
    "            print(name)\n",
    "    elif choice == '3':\n",
    "        print(\"Exiting the program.\")\n",
    "        break\n",
    "    else:\n",
    "        print(\"Invalid choice. Please try again.\")\n"
   ]
  },
  {
   "cell_type": "code",
   "execution_count": null,
   "id": "06e29ee0-adde-4cb8-81f0-a9d0195811ae",
   "metadata": {},
   "outputs": [],
   "source": []
  },
  {
   "cell_type": "code",
   "execution_count": null,
   "id": "ef6b0781-5b9b-4f40-8e12-05b87540b4f5",
   "metadata": {},
   "outputs": [],
   "source": []
  },
  {
   "cell_type": "code",
   "execution_count": null,
   "id": "1270fc12-75ab-4292-9b10-d8c899266ed7",
   "metadata": {},
   "outputs": [],
   "source": []
  }
 ],
 "metadata": {
  "kernelspec": {
   "display_name": "Python 3 (ipykernel)",
   "language": "python",
   "name": "python3"
  },
  "language_info": {
   "codemirror_mode": {
    "name": "ipython",
    "version": 3
   },
   "file_extension": ".py",
   "mimetype": "text/x-python",
   "name": "python",
   "nbconvert_exporter": "python",
   "pygments_lexer": "ipython3",
   "version": "3.12.4"
  }
 },
 "nbformat": 4,
 "nbformat_minor": 5
}
