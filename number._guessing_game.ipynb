{
 "cells": [
  {
   "cell_type": "code",
   "execution_count": 17,
   "id": "032da312-6dd2-4552-a4dd-4fab060d2842",
   "metadata": {},
   "outputs": [],
   "source": [
    "#Number guessing game\n"
   ]
  },
  {
   "cell_type": "code",
   "execution_count": 87,
   "id": "d2d3a7ea-d2ae-4847-9999-c9dc8cf59c25",
   "metadata": {},
   "outputs": [
    {
     "name": "stdout",
     "output_type": "stream",
     "text": [
      "Welcome to the number guessing game!🌻\n"
     ]
    },
    {
     "name": "stdin",
     "output_type": "stream",
     "text": [
      "Choose the number of tries you want five tries (1) ,ten tries (2) and  15 tries (3) 5\n",
      "Invalid choice 😡! Please try again! Enter a correct choice 2\n"
     ]
    },
    {
     "name": "stdout",
     "output_type": "stream",
     "text": [
      "You have 10 tries\n"
     ]
    },
    {
     "name": "stdin",
     "output_type": "stream",
     "text": [
      "Guess the number 1\n"
     ]
    },
    {
     "name": "stdout",
     "output_type": "stream",
     "text": [
      "The guess you've made is too low!😨 Try again You have 9 tries left\n"
     ]
    },
    {
     "name": "stdin",
     "output_type": "stream",
     "text": [
      "Guess the number 10\n"
     ]
    },
    {
     "name": "stdout",
     "output_type": "stream",
     "text": [
      "The guess you've made is too low!😨 Try again You have 8 tries left\n"
     ]
    },
    {
     "name": "stdin",
     "output_type": "stream",
     "text": [
      "Guess the number 40\n"
     ]
    },
    {
     "name": "stdout",
     "output_type": "stream",
     "text": [
      "The guess you've made is too high!😨 Try again ! You have 7 tries left\n"
     ]
    },
    {
     "name": "stdin",
     "output_type": "stream",
     "text": [
      "Guess the number 30\n"
     ]
    },
    {
     "name": "stdout",
     "output_type": "stream",
     "text": [
      "The guess you've made is too low!😨 Try again You have 6 tries left\n"
     ]
    },
    {
     "name": "stdin",
     "output_type": "stream",
     "text": [
      "Guess the number 35\n"
     ]
    },
    {
     "name": "stdout",
     "output_type": "stream",
     "text": [
      "The guess you've made is too high!😨 Try again ! You have 5 tries left\n"
     ]
    },
    {
     "name": "stdin",
     "output_type": "stream",
     "text": [
      "Guess the number 34\n"
     ]
    },
    {
     "name": "stdout",
     "output_type": "stream",
     "text": [
      "The guess you've made is too high!😨 Try again ! You have 4 tries left\n"
     ]
    },
    {
     "name": "stdin",
     "output_type": "stream",
     "text": [
      "Guess the number 33\n"
     ]
    },
    {
     "name": "stdout",
     "output_type": "stream",
     "text": [
      "The guess you've made is too high!😨 Try again ! You have 3 tries left\n"
     ]
    },
    {
     "name": "stdin",
     "output_type": "stream",
     "text": [
      "Guess the number 32\n"
     ]
    },
    {
     "name": "stdout",
     "output_type": "stream",
     "text": [
      "You have successfull guessed the number in 8 tries  and you had 2 tries left 🎉\n"
     ]
    }
   ],
   "source": [
    "import random\n",
    "no=random.randint(1,100)\n",
    "print(\"Welcome to the number guessing game!🌻\")\n",
    "choose=input(\"Choose the number of tries you want five tries (1) ,ten tries (2) and  15 tries (3)\")\n",
    "while True:\n",
    "    if choose=='1':\n",
    "        tries=5\n",
    "        print(f\"You have {tries} tries\") \n",
    "        break\n",
    "\n",
    "    elif choose=='2':\n",
    "        tries=10\n",
    "        print(f\"You have {tries} tries\")\n",
    "        break\n",
    "\n",
    "    elif choose=='3':\n",
    "        tries=15\n",
    "        print(f\"You have {tries} tries\")\n",
    "        break\n",
    "    else:\n",
    "        choose=input(\"Invalid choice 😡! Please try again! Enter a correct choice\")\n",
    "    \n",
    "\n",
    "count=0\n",
    "while True:\n",
    "    try:\n",
    "        guessed_number=int(input(\"Guess the number\"))\n",
    "    except ValueError:\n",
    "        print(\"Please enter a valid number and not text!\")\n",
    "        continue\n",
    "\n",
    "    count+=1\n",
    "    tries-=1\n",
    "      \n",
    "    \n",
    "    \n",
    "    if guessed_number==no:\n",
    "        print(f\"You have successfull guessed the number in {count} tries  and you had {tries} tries left 🎉\")\n",
    "        break\n",
    "    elif guessed_number>no:\n",
    "        print(f\"The guess you've made is too high!😨 Try again ! You have {tries} tries left\")\n",
    "    elif guessed_number<no:\n",
    "        print(f\"The guess you've made is too low!😨 Try again You have {tries} tries left\")\n",
    "    if tries==0:\n",
    "        print(f\"You're out of tries the correct answer is {no}\")\n",
    "        break  \n",
    "    "
   ]
  },
  {
   "cell_type": "code",
   "execution_count": null,
   "id": "f8ade31a-0d80-4869-b182-dd734e2e7331",
   "metadata": {},
   "outputs": [],
   "source": []
  },
  {
   "cell_type": "code",
   "execution_count": null,
   "id": "cd84364d-9ea6-4e2d-ad0e-bf8b41da851c",
   "metadata": {},
   "outputs": [],
   "source": []
  },
  {
   "cell_type": "code",
   "execution_count": null,
   "id": "1f4cb7e5-5738-4860-af87-d948916d4ae5",
   "metadata": {},
   "outputs": [],
   "source": []
  },
  {
   "cell_type": "code",
   "execution_count": null,
   "id": "330c5797-3fb8-4551-94db-fde9f95f61a8",
   "metadata": {},
   "outputs": [],
   "source": []
  },
  {
   "cell_type": "code",
   "execution_count": null,
   "id": "0c6f3dea-efde-4ae9-8e00-50ccc8233913",
   "metadata": {},
   "outputs": [],
   "source": []
  }
 ],
 "metadata": {
  "kernelspec": {
   "display_name": "Python 3 (ipykernel)",
   "language": "python",
   "name": "python3"
  },
  "language_info": {
   "codemirror_mode": {
    "name": "ipython",
    "version": 3
   },
   "file_extension": ".py",
   "mimetype": "text/x-python",
   "name": "python",
   "nbconvert_exporter": "python",
   "pygments_lexer": "ipython3",
   "version": "3.12.4"
  }
 },
 "nbformat": 4,
 "nbformat_minor": 5
}
